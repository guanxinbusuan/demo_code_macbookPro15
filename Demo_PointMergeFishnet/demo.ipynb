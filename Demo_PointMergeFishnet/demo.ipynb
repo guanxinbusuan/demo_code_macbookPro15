{
 "cells": [
  {
   "cell_type": "markdown",
   "metadata": {},
   "source": [
    "#### 一个demo演示如何通过function.py写的API函数接口 实现 “边界渔网化+合并点源 与 渔网（面源）\n",
    "\n",
    "1. 利用数据文件：1.geojson的矢量边界 和 API 中的 create_fishnet 方法,实现 边界渔网化\n",
    "2. 利用数据文件：1.csv的dataframe,转换geodataframe 为 待合并的点源数据\n",
    "3. 利用 API 中的 Point_Merge_Fishnet 方法，实现 合并点源 与 渔网（面源） 得到全新的渔网"
   ]
  },
  {
   "cell_type": "code",
   "execution_count": null,
   "metadata": {},
   "outputs": [],
   "source": [
    "import geopandas as gpd\n",
    "import pandas as pd\n",
    "from shapely import Point\n",
    "import matplotlib.pyplot as plt"
   ]
  },
  {
   "cell_type": "markdown",
   "metadata": {},
   "source": [
    "- 步骤一：利用数据文件1.geojson的矢量边界 和 API 中的 create_fishnet 方法,实现 边界渔网化"
   ]
  },
  {
   "cell_type": "code",
   "execution_count": null,
   "metadata": {},
   "outputs": [
    {
     "name": "stderr",
     "output_type": "stream",
     "text": [
      "Skipping field center: unsupported OGR type: 3\n",
      "Skipping field centroid: unsupported OGR type: 3\n",
      "Skipping field acroutes: unsupported OGR type: 1\n"
     ]
    }
   ],
   "source": [
    "from function import create_fishnet\n",
    "profile_data = gpd.read_file('1.json')\n",
    "fishnet_old=create_fishnet(profile_data,0.01)"
   ]
  },
  {
   "cell_type": "markdown",
   "metadata": {},
   "source": [
    "- 步骤二：利用数据文件1.csv的dataframe,转换geodataframe 为 待合并的点源数据"
   ]
  },
  {
   "cell_type": "code",
   "execution_count": 3,
   "metadata": {},
   "outputs": [],
   "source": [
    "#注意geomerty都是经度在前，纬度在后！！！！！\n",
    "point_data=pd.read_csv('1.csv')\n",
    "point_data['geometry']=[Point(x,y) for x,y in zip(point_data['lat'],point_data['lon'])]\n",
    "# 转换为 GeoDataFrame 并设置初始 CRS\n",
    "point_data = gpd.GeoDataFrame(point_data,crs=\"EPSG:4326\")"
   ]
  },
  {
   "cell_type": "markdown",
   "metadata": {},
   "source": [
    "- 步骤三： 利用 API 中的 Point_Merge_Fishnet 方法，实现 合并点源 与 渔网（面源） 得到 全新的渔网"
   ]
  },
  {
   "cell_type": "code",
   "execution_count": 6,
   "metadata": {},
   "outputs": [],
   "source": [
    "from function import Point_Merge_Fishnet\n",
    "new_fishnet=Point_Merge_Fishnet(point_data,fishnet_old,'value')"
   ]
  },
  {
   "cell_type": "markdown",
   "metadata": {},
   "source": [
    "> 绘图可视化一下："
   ]
  },
  {
   "cell_type": "code",
   "execution_count": 7,
   "metadata": {},
   "outputs": [
    {
     "data": {
      "image/png": "[encoded data removed]",
      "text/plain": [
       "<Figure size 640x480 with 2 Axes>"
      ]
     },
     "metadata": {},
     "output_type": "display_data"
    }
   ],
   "source": [
    "fig,ax=plt.subplots()\n",
    "new_fishnet.plot(ax=ax, color='white', edgecolor='black')\n",
    "new_fishnet.plot(column='value', cmap='Blues',legend=True,ax=ax)\n",
    "plt.show()"
   ]
  },
  {
   "cell_type": "code",
   "execution_count": 8,
   "metadata": {},
   "outputs": [
    {
     "data": {
      "text/html": [
       "<div>\n",
       "<style scoped>\n",
       "    .dataframe tbody tr th:only-of-type {\n",
       "        vertical-align: middle;\n",
       "    }\n",
       "\n",
       "    .dataframe tbody tr th {\n",
       "        vertical-align: top;\n",
       "    }\n",
       "\n",
       "    .dataframe thead th {\n",
       "        text-align: right;\n",
       "    }\n",
       "</style>\n",
       "<table border=\"1\" class=\"dataframe\">\n",
       "  <thead>\n",
       "    <tr style=\"text-align: right;\">\n",
       "      <th></th>\n",
       "      <th>index_right</th>\n",
       "      <th>number</th>\n",
       "      <th>start_lon</th>\n",
       "      <th>end_lon</th>\n",
       "      <th>start_lat</th>\n",
       "      <th>end_lat</th>\n",
       "      <th>geometry</th>\n",
       "      <th>count</th>\n",
       "      <th>value</th>\n",
       "    </tr>\n",
       "  </thead>\n",
       "  <tbody>\n",
       "    <tr>\n",
       "      <th>111.0</th>\n",
       "      <td>111</td>\n",
       "      <td>66</td>\n",
       "      <td>109.424823</td>\n",
       "      <td>109.434823</td>\n",
       "      <td>18.597512</td>\n",
       "      <td>18.607512</td>\n",
       "      <td>POLYGON ((109.43482 18.59751, 109.43482 18.607...</td>\n",
       "      <td>1.0</td>\n",
       "      <td>9.0</td>\n",
       "    </tr>\n",
       "    <tr>\n",
       "      <th>384.0</th>\n",
       "      <td>384</td>\n",
       "      <td>225</td>\n",
       "      <td>109.484823</td>\n",
       "      <td>109.494823</td>\n",
       "      <td>18.627512</td>\n",
       "      <td>18.637512</td>\n",
       "      <td>POLYGON ((109.49482 18.62751, 109.49482 18.637...</td>\n",
       "      <td>1.0</td>\n",
       "      <td>10.0</td>\n",
       "    </tr>\n",
       "    <tr>\n",
       "      <th>474.0</th>\n",
       "      <td>474</td>\n",
       "      <td>275</td>\n",
       "      <td>109.504823</td>\n",
       "      <td>109.514823</td>\n",
       "      <td>18.627512</td>\n",
       "      <td>18.637512</td>\n",
       "      <td>POLYGON ((109.51482 18.62751, 109.51482 18.637...</td>\n",
       "      <td>1.0</td>\n",
       "      <td>11.0</td>\n",
       "    </tr>\n",
       "    <tr>\n",
       "      <th>646.0</th>\n",
       "      <td>646</td>\n",
       "      <td>255</td>\n",
       "      <td>109.544823</td>\n",
       "      <td>109.554823</td>\n",
       "      <td>18.547512</td>\n",
       "      <td>18.557512</td>\n",
       "      <td>POLYGON ((109.55482 18.54751, 109.55482 18.557...</td>\n",
       "      <td>1.0</td>\n",
       "      <td>2.0</td>\n",
       "    </tr>\n",
       "    <tr>\n",
       "      <th>1043.0</th>\n",
       "      <td>1043</td>\n",
       "      <td>216</td>\n",
       "      <td>109.634823</td>\n",
       "      <td>109.644823</td>\n",
       "      <td>18.467512</td>\n",
       "      <td>18.477512</td>\n",
       "      <td>POLYGON ((109.64482 18.46751, 109.64482 18.477...</td>\n",
       "      <td>1.0</td>\n",
       "      <td>1.0</td>\n",
       "    </tr>\n",
       "    <tr>\n",
       "      <th>1276.0</th>\n",
       "      <td>1276</td>\n",
       "      <td>493</td>\n",
       "      <td>109.684823</td>\n",
       "      <td>109.694823</td>\n",
       "      <td>18.547512</td>\n",
       "      <td>18.557512</td>\n",
       "      <td>POLYGON ((109.69482 18.54751, 109.69482 18.557...</td>\n",
       "      <td>1.0</td>\n",
       "      <td>5.0</td>\n",
       "    </tr>\n",
       "    <tr>\n",
       "      <th>1648.0</th>\n",
       "      <td>1648</td>\n",
       "      <td>1073</td>\n",
       "      <td>109.764823</td>\n",
       "      <td>109.774823</td>\n",
       "      <td>18.667512</td>\n",
       "      <td>18.677512</td>\n",
       "      <td>POLYGON ((109.77482 18.66751, 109.77482 18.677...</td>\n",
       "      <td>1.0</td>\n",
       "      <td>4.0</td>\n",
       "    </tr>\n",
       "  </tbody>\n",
       "</table>\n",
       "</div>"
      ],
      "text/plain": [
       "        index_right  number   start_lon     end_lon  start_lat    end_lat  \\\n",
       "111.0           111      66  109.424823  109.434823  18.597512  18.607512   \n",
       "384.0           384     225  109.484823  109.494823  18.627512  18.637512   \n",
       "474.0           474     275  109.504823  109.514823  18.627512  18.637512   \n",
       "646.0           646     255  109.544823  109.554823  18.547512  18.557512   \n",
       "1043.0         1043     216  109.634823  109.644823  18.467512  18.477512   \n",
       "1276.0         1276     493  109.684823  109.694823  18.547512  18.557512   \n",
       "1648.0         1648    1073  109.764823  109.774823  18.667512  18.677512   \n",
       "\n",
       "                                                 geometry  count  value  \n",
       "111.0   POLYGON ((109.43482 18.59751, 109.43482 18.607...    1.0    9.0  \n",
       "384.0   POLYGON ((109.49482 18.62751, 109.49482 18.637...    1.0   10.0  \n",
       "474.0   POLYGON ((109.51482 18.62751, 109.51482 18.637...    1.0   11.0  \n",
       "646.0   POLYGON ((109.55482 18.54751, 109.55482 18.557...    1.0    2.0  \n",
       "1043.0  POLYGON ((109.64482 18.46751, 109.64482 18.477...    1.0    1.0  \n",
       "1276.0  POLYGON ((109.69482 18.54751, 109.69482 18.557...    1.0    5.0  \n",
       "1648.0  POLYGON ((109.77482 18.66751, 109.77482 18.677...    1.0    4.0  "
      ]
     },
     "execution_count": 8,
     "metadata": {},
     "output_type": "execute_result"
    }
   ],
   "source": [
    "new_fishnet[new_fishnet['value']>0]"
   ]
  }
 ],
 "metadata": {
  "kernelspec": {
   "display_name": "geoproject",
   "language": "python",
   "name": "python3"
  },
  "language_info": {
   "codemirror_mode": {
    "name": "ipython",
    "version": 3
   },
   "file_extension": ".py",
   "mimetype": "text/x-python",
   "name": "python",
   "nbconvert_exporter": "python",
   "pygments_lexer": "ipython3",
   "version": "3.12.9"
  }
 },
 "nbformat": 4,
 "nbformat_minor": 2
}
